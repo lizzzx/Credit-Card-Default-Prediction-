{
 "cells": [
  {
   "cell_type": "markdown",
   "id": "30d64db7-e37b-4986-9a79-719b1c8750a2",
   "metadata": {
    "tags": []
   },
   "source": [
    "# Next Month Credit Card Prediction"
   ]
  },
  {
   "cell_type": "markdown",
   "id": "12c8745c-3840-466d-b438-7dac6492fecc",
   "metadata": {},
   "source": [
    "## Introduction"
   ]
  },
  {
   "cell_type": "markdown",
   "id": "84df03ec-e677-4b36-a01a-9e1b12337c6d",
   "metadata": {},
   "source": [
    "In the contemporary society, banks provide the most efficient access for human to managing their money. One of their products is credit card which allows users to spend money within a reasonable limit in advance and pay the money back later. It is hard to investigate all users background and use it to determine how much their maximum credit limit are. Thus, majority banks usually give users a relatively low limit and increase the amount of limit after they have enough information that support the users are trustworthy and have the ability to pay the money they spend in advance. One of the most important factors is whether the users paid their previous credit.  \n",
    "\n",
    "In this blog, our goal is predicting whether a person will pay back in October 2005 based on some data from April to September 2005. The dataset is uploaded by UCI machine learning on Kaggle. This dataset contains 25 variables. Our target is represented as *default.payment.next.month* which is a binary feature: 1 means the user will not pay next month, 0 means the opposite.\n",
    "\n",
    "Except for the prediction target just mentioned, the rest of the information can be used to predict. We have LIMIT_BAL for amount of given credit, SEX for gender, EDUCATION for education level, MARRIAGE for marital status, AGE for age, PAY_1 to PAY_6 for repayment status for different months, BILL_ATM1 to BILL_ATM6 for amount of bill statements for different months and PAY_AMT1 to PAY_AMT6 for amount of previous payment for different months.\n",
    "\n"
   ]
  },
  {
   "cell_type": "markdown",
   "id": "d49a8333-9cd5-44e3-ba6a-35f021bee5ff",
   "metadata": {},
   "source": [
    "## Importing useful tools"
   ]
  },
  {
   "cell_type": "markdown",
   "id": "ff6a1dd6-76ed-4683-b641-f90d9156e0fc",
   "metadata": {},
   "source": [
    "When we are doing machine by using a programming language, it is unrealistic that the programming language can achieve everything we want to do. Therefore, we need import other packages to achieve certain goals."
   ]
  },
  {
   "cell_type": "code",
   "execution_count": 1,
   "id": "583b86bb-0c73-4b56-87b0-95634008133b",
   "metadata": {},
   "outputs": [],
   "source": [
    "import os\n",
    "\n",
    "%matplotlib inline\n",
    "import sys\n",
    "\n",
    "import matplotlib.pyplot as plt\n",
    "import numpy as np\n",
    "import pandas as pd\n",
    "import seaborn as sns\n",
    "import xgboost as xgb\n",
    "from sklearn.compose import ColumnTransformer, make_column_transformer\n",
    "from sklearn.dummy import DummyClassifier\n",
    "from sklearn.ensemble import RandomForestClassifier\n",
    "from sklearn.impute import SimpleImputer\n",
    "from sklearn.linear_model import LogisticRegression\n",
    "from sklearn.metrics import (\n",
    "    classification_report,\n",
    "    confusion_matrix,\n",
    "    f1_score,\n",
    "    make_scorer,\n",
    "    plot_confusion_matrix,\n",
    ")\n",
    "from sklearn.model_selection import (\n",
    "    GridSearchCV,\n",
    "    RandomizedSearchCV,\n",
    "    cross_val_score,\n",
    "    cross_validate,\n",
    "    train_test_split,\n",
    ")\n",
    "from sklearn.pipeline import Pipeline, make_pipeline\n",
    "from sklearn.preprocessing import OneHotEncoder, OrdinalEncoder, StandardScaler\n",
    "from sklearn.svm import SVC"
   ]
  },
  {
   "cell_type": "markdown",
   "id": "cd626560-3c94-46f0-8cdc-590c0e1af5c8",
   "metadata": {},
   "source": [
    "The very first thing we want to do is load the whole dataset to the platform we are working on"
   ]
  },
  {
   "cell_type": "code",
   "execution_count": 2,
   "id": "f9604416-8f36-478f-bf31-bf5ea2e7d3e7",
   "metadata": {},
   "outputs": [],
   "source": [
    "df_credit = pd.read_csv(\"UCI_Credit_Card.csv\", encoding=\"utf-8\",index_col=0)"
   ]
  },
  {
   "cell_type": "markdown",
   "id": "4e68cd68-8f98-4120-89d3-ce38c6a303e0",
   "metadata": {},
   "source": [
    "## Exploratory Data Analysis(EDA)"
   ]
  },
  {
   "cell_type": "markdown",
   "id": "76e358c4-429d-43da-b681-98d738059609",
   "metadata": {},
   "source": [
    "We can visualize the exploratory variable to have a general sense about the dataset we are dealing with"
   ]
  },
  {
   "cell_type": "code",
   "execution_count": 3,
   "id": "fd8f1b0a-cf81-4b75-88e3-9100d82418ef",
   "metadata": {},
   "outputs": [
    {
     "data": {
      "image/png": "[encoded data removed]",
      "text/plain": [
       "<Figure size 432x288 with 1 Axes>"
      ]
     },
     "metadata": {
      "needs_background": "light"
     },
     "output_type": "display_data"
    },
    {
     "data": {
      "text/plain": [
       "0    23364\n",
       "1     6636\n",
       "Name: default.payment.next.month, dtype: int64"
      ]
     },
     "execution_count": 3,
     "metadata": {},
     "output_type": "execute_result"
    }
   ],
   "source": [
    "target = df_credit[\"default.payment.next.month\"]\n",
    "target.plot.hist(bins=2)\n",
    "plt.xticks([0,1])\n",
    "plt.xlabel(\"Default Payment Next Month\")\n",
    "plt.title(\"Plot1: Histogram of Target Variable\")\n",
    "plt.show()\n",
    "df_credit[\"default.payment.next.month\"].value_counts()"
   ]
  },
  {
   "cell_type": "markdown",
   "id": "0af9ddbb-6ecb-4d4e-a77e-e1447e634b9c",
   "metadata": {},
   "source": [
    "Based on the plot we just made, we can see there are much more 0-cases than 1-cases. Because normally, most people pay back their credit card bills. This kind of dataset is unbalanced."
   ]
  },
  {
   "cell_type": "code",
   "execution_count": 4,
   "id": "f687764b-f16b-40d2-9dc7-d8cd5d6e99bd",
   "metadata": {},
   "outputs": [
    {
     "name": "stdout",
     "output_type": "stream",
     "text": [
      "<class 'pandas.core.frame.DataFrame'>\n",
      "Int64Index: 30000 entries, 1 to 30000\n",
      "Data columns (total 24 columns):\n",
      " #   Column                      Non-Null Count  Dtype  \n",
      "---  ------                      --------------  -----  \n",
      " 0   LIMIT_BAL                   30000 non-null  float64\n",
      " 1   SEX                         30000 non-null  int64  \n",
      " 2   EDUCATION                   30000 non-null  int64  \n",
      " 3   MARRIAGE                    30000 non-null  int64  \n",
      " 4   AGE                         30000 non-null  int64  \n",
      " 5   PAY_0                       30000 non-null  int64  \n",
      " 6   PAY_2                       30000 non-null  int64  \n",
      " 7   PAY_3                       30000 non-null  int64  \n",
      " 8   PAY_4                       30000 non-null  int64  \n",
      " 9   PAY_5                       30000 non-null  int64  \n",
      " 10  PAY_6                       30000 non-null  int64  \n",
      " 11  BILL_AMT1                   30000 non-null  float64\n",
      " 12  BILL_AMT2                   30000 non-null  float64\n",
      " 13  BILL_AMT3                   30000 non-null  float64\n",
      " 14  BILL_AMT4                   30000 non-null  float64\n",
      " 15  BILL_AMT5                   30000 non-null  float64\n",
      " 16  BILL_AMT6                   30000 non-null  float64\n",
      " 17  PAY_AMT1                    30000 non-null  float64\n",
      " 18  PAY_AMT2                    30000 non-null  float64\n",
      " 19  PAY_AMT3                    30000 non-null  float64\n",
      " 20  PAY_AMT4                    30000 non-null  float64\n",
      " 21  PAY_AMT5                    30000 non-null  float64\n",
      " 22  PAY_AMT6                    30000 non-null  float64\n",
      " 23  default.payment.next.month  30000 non-null  int64  \n",
      "dtypes: float64(13), int64(11)\n",
      "memory usage: 5.7 MB\n"
     ]
    }
   ],
   "source": [
    "df_credit.info()"
   ]
  },
  {
   "cell_type": "code",
   "execution_count": 5,
   "id": "f404e4e3-c2f0-47f2-b81c-8e1b3335fb23",
   "metadata": {},
   "outputs": [
    {
     "data": {
      "text/html": [
       "<div>\n",
       "<style scoped>\n",
       "    .dataframe tbody tr th:only-of-type {\n",
       "        vertical-align: middle;\n",
       "    }\n",
       "\n",
       "    .dataframe tbody tr th {\n",
       "        vertical-align: top;\n",
       "    }\n",
       "\n",
       "    .dataframe thead th {\n",
       "        text-align: right;\n",
       "    }\n",
       "</style>\n",
       "<table border=\"1\" class=\"dataframe\">\n",
       "  <thead>\n",
       "    <tr style=\"text-align: right;\">\n",
       "      <th></th>\n",
       "      <th>LIMIT_BAL</th>\n",
       "      <th>SEX</th>\n",
       "      <th>EDUCATION</th>\n",
       "      <th>MARRIAGE</th>\n",
       "      <th>AGE</th>\n",
       "      <th>PAY_0</th>\n",
       "      <th>PAY_2</th>\n",
       "      <th>PAY_3</th>\n",
       "      <th>PAY_4</th>\n",
       "      <th>PAY_5</th>\n",
       "      <th>...</th>\n",
       "      <th>BILL_AMT4</th>\n",
       "      <th>BILL_AMT5</th>\n",
       "      <th>BILL_AMT6</th>\n",
       "      <th>PAY_AMT1</th>\n",
       "      <th>PAY_AMT2</th>\n",
       "      <th>PAY_AMT3</th>\n",
       "      <th>PAY_AMT4</th>\n",
       "      <th>PAY_AMT5</th>\n",
       "      <th>PAY_AMT6</th>\n",
       "      <th>default.payment.next.month</th>\n",
       "    </tr>\n",
       "  </thead>\n",
       "  <tbody>\n",
       "    <tr>\n",
       "      <th>count</th>\n",
       "      <td>30000.000000</td>\n",
       "      <td>30000.000000</td>\n",
       "      <td>30000.000000</td>\n",
       "      <td>30000.000000</td>\n",
       "      <td>30000.000000</td>\n",
       "      <td>30000.000000</td>\n",
       "      <td>30000.000000</td>\n",
       "      <td>30000.000000</td>\n",
       "      <td>30000.000000</td>\n",
       "      <td>30000.000000</td>\n",
       "      <td>...</td>\n",
       "      <td>30000.000000</td>\n",
       "      <td>30000.000000</td>\n",
       "      <td>30000.000000</td>\n",
       "      <td>30000.000000</td>\n",
       "      <td>3.000000e+04</td>\n",
       "      <td>30000.00000</td>\n",
       "      <td>30000.000000</td>\n",
       "      <td>30000.000000</td>\n",
       "      <td>30000.000000</td>\n",
       "      <td>30000.000000</td>\n",
       "    </tr>\n",
       "    <tr>\n",
       "      <th>mean</th>\n",
       "      <td>167484.322667</td>\n",
       "      <td>1.603733</td>\n",
       "      <td>1.853133</td>\n",
       "      <td>1.551867</td>\n",
       "      <td>35.485500</td>\n",
       "      <td>-0.016700</td>\n",
       "      <td>-0.133767</td>\n",
       "      <td>-0.166200</td>\n",
       "      <td>-0.220667</td>\n",
       "      <td>-0.266200</td>\n",
       "      <td>...</td>\n",
       "      <td>43262.948967</td>\n",
       "      <td>40311.400967</td>\n",
       "      <td>38871.760400</td>\n",
       "      <td>5663.580500</td>\n",
       "      <td>5.921163e+03</td>\n",
       "      <td>5225.68150</td>\n",
       "      <td>4826.076867</td>\n",
       "      <td>4799.387633</td>\n",
       "      <td>5215.502567</td>\n",
       "      <td>0.221200</td>\n",
       "    </tr>\n",
       "    <tr>\n",
       "      <th>std</th>\n",
       "      <td>129747.661567</td>\n",
       "      <td>0.489129</td>\n",
       "      <td>0.790349</td>\n",
       "      <td>0.521970</td>\n",
       "      <td>9.217904</td>\n",
       "      <td>1.123802</td>\n",
       "      <td>1.197186</td>\n",
       "      <td>1.196868</td>\n",
       "      <td>1.169139</td>\n",
       "      <td>1.133187</td>\n",
       "      <td>...</td>\n",
       "      <td>64332.856134</td>\n",
       "      <td>60797.155770</td>\n",
       "      <td>59554.107537</td>\n",
       "      <td>16563.280354</td>\n",
       "      <td>2.304087e+04</td>\n",
       "      <td>17606.96147</td>\n",
       "      <td>15666.159744</td>\n",
       "      <td>15278.305679</td>\n",
       "      <td>17777.465775</td>\n",
       "      <td>0.415062</td>\n",
       "    </tr>\n",
       "    <tr>\n",
       "      <th>min</th>\n",
       "      <td>10000.000000</td>\n",
       "      <td>1.000000</td>\n",
       "      <td>0.000000</td>\n",
       "      <td>0.000000</td>\n",
       "      <td>21.000000</td>\n",
       "      <td>-2.000000</td>\n",
       "      <td>-2.000000</td>\n",
       "      <td>-2.000000</td>\n",
       "      <td>-2.000000</td>\n",
       "      <td>-2.000000</td>\n",
       "      <td>...</td>\n",
       "      <td>-170000.000000</td>\n",
       "      <td>-81334.000000</td>\n",
       "      <td>-339603.000000</td>\n",
       "      <td>0.000000</td>\n",
       "      <td>0.000000e+00</td>\n",
       "      <td>0.00000</td>\n",
       "      <td>0.000000</td>\n",
       "      <td>0.000000</td>\n",
       "      <td>0.000000</td>\n",
       "      <td>0.000000</td>\n",
       "    </tr>\n",
       "    <tr>\n",
       "      <th>25%</th>\n",
       "      <td>50000.000000</td>\n",
       "      <td>1.000000</td>\n",
       "      <td>1.000000</td>\n",
       "      <td>1.000000</td>\n",
       "      <td>28.000000</td>\n",
       "      <td>-1.000000</td>\n",
       "      <td>-1.000000</td>\n",
       "      <td>-1.000000</td>\n",
       "      <td>-1.000000</td>\n",
       "      <td>-1.000000</td>\n",
       "      <td>...</td>\n",
       "      <td>2326.750000</td>\n",
       "      <td>1763.000000</td>\n",
       "      <td>1256.000000</td>\n",
       "      <td>1000.000000</td>\n",
       "      <td>8.330000e+02</td>\n",
       "      <td>390.00000</td>\n",
       "      <td>296.000000</td>\n",
       "      <td>252.500000</td>\n",
       "      <td>117.750000</td>\n",
       "      <td>0.000000</td>\n",
       "    </tr>\n",
       "    <tr>\n",
       "      <th>50%</th>\n",
       "      <td>140000.000000</td>\n",
       "      <td>2.000000</td>\n",
       "      <td>2.000000</td>\n",
       "      <td>2.000000</td>\n",
       "      <td>34.000000</td>\n",
       "      <td>0.000000</td>\n",
       "      <td>0.000000</td>\n",
       "      <td>0.000000</td>\n",
       "      <td>0.000000</td>\n",
       "      <td>0.000000</td>\n",
       "      <td>...</td>\n",
       "      <td>19052.000000</td>\n",
       "      <td>18104.500000</td>\n",
       "      <td>17071.000000</td>\n",
       "      <td>2100.000000</td>\n",
       "      <td>2.009000e+03</td>\n",
       "      <td>1800.00000</td>\n",
       "      <td>1500.000000</td>\n",
       "      <td>1500.000000</td>\n",
       "      <td>1500.000000</td>\n",
       "      <td>0.000000</td>\n",
       "    </tr>\n",
       "    <tr>\n",
       "      <th>75%</th>\n",
       "      <td>240000.000000</td>\n",
       "      <td>2.000000</td>\n",
       "      <td>2.000000</td>\n",
       "      <td>2.000000</td>\n",
       "      <td>41.000000</td>\n",
       "      <td>0.000000</td>\n",
       "      <td>0.000000</td>\n",
       "      <td>0.000000</td>\n",
       "      <td>0.000000</td>\n",
       "      <td>0.000000</td>\n",
       "      <td>...</td>\n",
       "      <td>54506.000000</td>\n",
       "      <td>50190.500000</td>\n",
       "      <td>49198.250000</td>\n",
       "      <td>5006.000000</td>\n",
       "      <td>5.000000e+03</td>\n",
       "      <td>4505.00000</td>\n",
       "      <td>4013.250000</td>\n",
       "      <td>4031.500000</td>\n",
       "      <td>4000.000000</td>\n",
       "      <td>0.000000</td>\n",
       "    </tr>\n",
       "    <tr>\n",
       "      <th>max</th>\n",
       "      <td>1000000.000000</td>\n",
       "      <td>2.000000</td>\n",
       "      <td>6.000000</td>\n",
       "      <td>3.000000</td>\n",
       "      <td>79.000000</td>\n",
       "      <td>8.000000</td>\n",
       "      <td>8.000000</td>\n",
       "      <td>8.000000</td>\n",
       "      <td>8.000000</td>\n",
       "      <td>8.000000</td>\n",
       "      <td>...</td>\n",
       "      <td>891586.000000</td>\n",
       "      <td>927171.000000</td>\n",
       "      <td>961664.000000</td>\n",
       "      <td>873552.000000</td>\n",
       "      <td>1.684259e+06</td>\n",
       "      <td>896040.00000</td>\n",
       "      <td>621000.000000</td>\n",
       "      <td>426529.000000</td>\n",
       "      <td>528666.000000</td>\n",
       "      <td>1.000000</td>\n",
       "    </tr>\n",
       "  </tbody>\n",
       "</table>\n",
       "<p>8 rows × 24 columns</p>\n",
       "</div>"
      ],
      "text/plain": [
       "            LIMIT_BAL           SEX     EDUCATION      MARRIAGE           AGE  \\\n",
       "count    30000.000000  30000.000000  30000.000000  30000.000000  30000.000000   \n",
       "mean    167484.322667      1.603733      1.853133      1.551867     35.485500   \n",
       "std     129747.661567      0.489129      0.790349      0.521970      9.217904   \n",
       "min      10000.000000      1.000000      0.000000      0.000000     21.000000   \n",
       "25%      50000.000000      1.000000      1.000000      1.000000     28.000000   \n",
       "50%     140000.000000      2.000000      2.000000      2.000000     34.000000   \n",
       "75%     240000.000000      2.000000      2.000000      2.000000     41.000000   \n",
       "max    1000000.000000      2.000000      6.000000      3.000000     79.000000   \n",
       "\n",
       "              PAY_0         PAY_2         PAY_3         PAY_4         PAY_5  \\\n",
       "count  30000.000000  30000.000000  30000.000000  30000.000000  30000.000000   \n",
       "mean      -0.016700     -0.133767     -0.166200     -0.220667     -0.266200   \n",
       "std        1.123802      1.197186      1.196868      1.169139      1.133187   \n",
       "min       -2.000000     -2.000000     -2.000000     -2.000000     -2.000000   \n",
       "25%       -1.000000     -1.000000     -1.000000     -1.000000     -1.000000   \n",
       "50%        0.000000      0.000000      0.000000      0.000000      0.000000   \n",
       "75%        0.000000      0.000000      0.000000      0.000000      0.000000   \n",
       "max        8.000000      8.000000      8.000000      8.000000      8.000000   \n",
       "\n",
       "       ...      BILL_AMT4      BILL_AMT5      BILL_AMT6       PAY_AMT1  \\\n",
       "count  ...   30000.000000   30000.000000   30000.000000   30000.000000   \n",
       "mean   ...   43262.948967   40311.400967   38871.760400    5663.580500   \n",
       "std    ...   64332.856134   60797.155770   59554.107537   16563.280354   \n",
       "min    ... -170000.000000  -81334.000000 -339603.000000       0.000000   \n",
       "25%    ...    2326.750000    1763.000000    1256.000000    1000.000000   \n",
       "50%    ...   19052.000000   18104.500000   17071.000000    2100.000000   \n",
       "75%    ...   54506.000000   50190.500000   49198.250000    5006.000000   \n",
       "max    ...  891586.000000  927171.000000  961664.000000  873552.000000   \n",
       "\n",
       "           PAY_AMT2      PAY_AMT3       PAY_AMT4       PAY_AMT5  \\\n",
       "count  3.000000e+04   30000.00000   30000.000000   30000.000000   \n",
       "mean   5.921163e+03    5225.68150    4826.076867    4799.387633   \n",
       "std    2.304087e+04   17606.96147   15666.159744   15278.305679   \n",
       "min    0.000000e+00       0.00000       0.000000       0.000000   \n",
       "25%    8.330000e+02     390.00000     296.000000     252.500000   \n",
       "50%    2.009000e+03    1800.00000    1500.000000    1500.000000   \n",
       "75%    5.000000e+03    4505.00000    4013.250000    4031.500000   \n",
       "max    1.684259e+06  896040.00000  621000.000000  426529.000000   \n",
       "\n",
       "            PAY_AMT6  default.payment.next.month  \n",
       "count   30000.000000                30000.000000  \n",
       "mean     5215.502567                    0.221200  \n",
       "std     17777.465775                    0.415062  \n",
       "min         0.000000                    0.000000  \n",
       "25%       117.750000                    0.000000  \n",
       "50%      1500.000000                    0.000000  \n",
       "75%      4000.000000                    0.000000  \n",
       "max    528666.000000                    1.000000  \n",
       "\n",
       "[8 rows x 24 columns]"
      ]
     },
     "execution_count": 5,
     "metadata": {},
     "output_type": "execute_result"
    }
   ],
   "source": [
    "df_credit.describe()"
   ]
  },
  {
   "cell_type": "markdown",
   "id": "17804077-6fcf-43b2-8668-6454fb95136f",
   "metadata": {},
   "source": [
    "Then, by using .info() and .describe() we will get a general idea of all the variables. For example, we can know if there is missing value for variables, the type of data for variables, the spread and center of variables. Knowing these will be beneficial for data preprocessing."
   ]
  },
  {
   "cell_type": "markdown",
   "id": "5dcebabf-c5b8-4a09-b6ec-1f1c10adbcd2",
   "metadata": {},
   "source": [
    "To train model and test the model trained, we will need to split the dataset to two sets. In train_test_split, we need the data, the test set proportion and set up random_state to make this code is reproducible. If we don't set up random_state, the function will generate different train set and test set every time we run the code. Setting up the random_state can make sure we get the exact same sets."
   ]
  },
  {
   "cell_type": "code",
   "execution_count": 6,
   "id": "3dc1455a-332f-4d0e-a253-7470cf03f186",
   "metadata": {},
   "outputs": [],
   "source": [
    "train_dfcredit, test_dfcredit = train_test_split(df_credit, test_size=0.3, random_state=123)"
   ]
  },
  {
   "cell_type": "markdown",
   "id": "f3c86f0b-0335-4622-bf74-199e926fd2ad",
   "metadata": {},
   "source": [
    "## Feature Engineering"
   ]
  },
  {
   "cell_type": "markdown",
   "id": "d2f51a1b-8de0-459b-a6e9-c2ae89c55211",
   "metadata": {},
   "source": [
    "Feature engineering is the process of transforming raw data into features that can be used in supervised learning.\n",
    "\n",
    "In this case, we use the BILL_AMT and the PAY_AMT from April to September 2005 to generate an average amount (BILL_AMT_avg & PAY_AMT_avg) to represent each individual's BILL_AMT and PAY_AMT"
   ]
  },
  {
   "cell_type": "code",
   "execution_count": 7,
   "id": "3b982656-ceeb-4d2b-9b56-13823b708138",
   "metadata": {},
   "outputs": [],
   "source": [
    "#average of BILL_ATM\n",
    "train_dfcredit = train_dfcredit.assign(\n",
    "    BILL_AMT_avg = (train_dfcredit[\"BILL_AMT1\"]+train_dfcredit[\"BILL_AMT2\"]+train_dfcredit[\"BILL_AMT3\"]+train_dfcredit[\"BILL_AMT4\"]+train_dfcredit[\"BILL_AMT5\"]+train_dfcredit[\"BILL_AMT6\"])/6)\n",
    "test_dfcredit = test_dfcredit.assign(\n",
    "    BILL_AMT_avg = (test_dfcredit[\"BILL_AMT1\"]+test_dfcredit[\"BILL_AMT2\"]+test_dfcredit[\"BILL_AMT3\"]+test_dfcredit[\"BILL_AMT4\"]+test_dfcredit[\"BILL_AMT5\"]+test_dfcredit[\"BILL_AMT6\"])/6)\n",
    "#average of PAY_ATM\n",
    "train_dfcredit = train_dfcredit.assign(\n",
    "    PAY_AMT_avg = (train_dfcredit[\"PAY_AMT1\"]+train_dfcredit[\"PAY_AMT2\"]+train_dfcredit[\"PAY_AMT3\"]+train_dfcredit[\"PAY_AMT4\"]+train_dfcredit[\"PAY_AMT5\"]+train_dfcredit[\"PAY_AMT6\"])/6)\n",
    "test_dfcredit = test_dfcredit.assign(\n",
    "    PAY_AMT_avg = (test_dfcredit[\"PAY_AMT1\"]+test_dfcredit[\"PAY_AMT2\"]+test_dfcredit[\"PAY_AMT3\"]+test_dfcredit[\"PAY_AMT4\"]+test_dfcredit[\"PAY_AMT5\"]+test_dfcredit[\"PAY_AMT6\"])/6)"
   ]
  },
  {
   "cell_type": "markdown",
   "id": "75c2a834-a3d7-4afa-b99b-8f42f1f8422e",
   "metadata": {},
   "source": [
    "## Data Preprocessing"
   ]
  },
  {
   "cell_type": "markdown",
   "id": "7cc89dd7-d4e8-4038-b5b2-1df5e36125d2",
   "metadata": {},
   "source": [
    "To make the dataset more complete and efficient to perform data analysis. We need to do some preprocessing on the dataset."
   ]
  },
  {
   "cell_type": "code",
   "execution_count": 8,
   "id": "f027e337-aac1-4bb8-bf51-587649852ecb",
   "metadata": {},
   "outputs": [],
   "source": [
    "target = \"default.payment.next.month\"\n",
    "X_trainCRE = train_dfcredit.drop(columns=[target])\n",
    "y_trainCRE = train_dfcredit[target]"
   ]
  },
  {
   "cell_type": "markdown",
   "id": "daa7008e-70df-4c1f-9dca-79ea81643859",
   "metadata": {},
   "source": [
    "By reading the description and the dataset, we can find that EDUCATION is ordinal and the levels includes 0, other, and two unknown. We can combine these four levels to one"
   ]
  },
  {
   "cell_type": "code",
   "execution_count": 9,
   "id": "68200336-6240-49a0-98b4-4313a4517f2c",
   "metadata": {},
   "outputs": [],
   "source": [
    "X_trainCRE[\"EDUCATION\"].replace(6, \"others\", inplace=True)\n",
    "X_trainCRE[\"EDUCATION\"].replace(5, \"others\", inplace=True)\n",
    "X_trainCRE[\"EDUCATION\"].replace(4, \"others\", inplace=True)\n",
    "X_trainCRE[\"EDUCATION\"].replace(3, \"high school\", inplace=True)\n",
    "X_trainCRE[\"EDUCATION\"].replace(2, \"university\", inplace=True)\n",
    "X_trainCRE[\"EDUCATION\"].replace(1, \"graduate school\", inplace=True)\n",
    "X_trainCRE[\"EDUCATION\"].replace(0, \"others\", inplace=True)\n",
    "X_trainCRE[\"MARRIAGE\"].replace(0, 3, inplace=True)"
   ]
  },
  {
   "cell_type": "markdown",
   "id": "92186b84-1b88-40cf-a36b-36eb039fefc0",
   "metadata": {},
   "source": [
    "Assign all variables to different feature groups so they can be preprocessed based on their data type."
   ]
  },
  {
   "cell_type": "code",
   "execution_count": 10,
   "id": "bd8db7c1-13ad-4d0c-8fb8-f6408b6307a9",
   "metadata": {},
   "outputs": [],
   "source": [
    "numerical= [\"LIMIT_BAL\",\"AGE\", \"PAY_0\",\"PAY_2\",\"PAY_3\",\"PAY_4\",\"PAY_5\",\"PAY_6\",  \n",
    "            \"BILL_AMT1\",\"BILL_AMT3\",\"BILL_AMT2\",\"BILL_AMT4\",\"BILL_AMT5\",\"BILL_AMT6\",\n",
    "            \"PAY_AMT1\", \"PAY_AMT2\",\"PAY_AMT3\",\"PAY_AMT4\",\"PAY_AMT5\",\"PAY_AMT6\",\n",
    "           \"BILL_AMT_avg\", \"PAY_AMT_avg\"]\n",
    "categorical = [\"SEX\", \"MARRIAGE\"]\n",
    "ordinal = [\"EDUCATION\"]\n",
    "# from low to high\n",
    "education_levels = [\"others\", \"high school\", \"university\", \"graduate school\"]"
   ]
  },
  {
   "cell_type": "markdown",
   "id": "4456b010-1f84-4bf9-ae2c-e9fc18ddfe41",
   "metadata": {},
   "source": [
    "combine all the transformers into one preprocessor which allows us process different strategies to different feature groups."
   ]
  },
  {
   "cell_type": "code",
   "execution_count": 11,
   "id": "122a2305-4423-4131-82f5-9864bb0aa86a",
   "metadata": {},
   "outputs": [],
   "source": [
    "preprocessor = make_column_transformer(\n",
    "    (\"passthrough\", numerical),\n",
    "    (OneHotEncoder(handle_unknown=\"ignore\", sparse=False), categorical),\n",
    "    (OrdinalEncoder(categories=[education_levels], ), ordinal))"
   ]
  },
  {
   "cell_type": "markdown",
   "id": "b5069477-c058-40ce-b833-1136f5e55d43",
   "metadata": {},
   "source": [
    "We only want to apply the preprocessor on X_trainCRE for now, because we want to keep testing data untouched until we start using it."
   ]
  },
  {
   "cell_type": "code",
   "execution_count": 12,
   "id": "ba625842-d98b-4408-afe4-0297724ba921",
   "metadata": {},
   "outputs": [
    {
     "data": {
      "text/plain": [
       "ColumnTransformer(transformers=[('passthrough', 'passthrough',\n",
       "                                 ['LIMIT_BAL', 'AGE', 'PAY_0', 'PAY_2', 'PAY_3',\n",
       "                                  'PAY_4', 'PAY_5', 'PAY_6', 'BILL_AMT1',\n",
       "                                  'BILL_AMT3', 'BILL_AMT2', 'BILL_AMT4',\n",
       "                                  'BILL_AMT5', 'BILL_AMT6', 'PAY_AMT1',\n",
       "                                  'PAY_AMT2', 'PAY_AMT3', 'PAY_AMT4',\n",
       "                                  'PAY_AMT5', 'PAY_AMT6', 'BILL_AMT_avg',\n",
       "                                  'PAY_AMT_avg']),\n",
       "                                ('onehotencoder',\n",
       "                                 OneHotEncoder(handle_unknown='ignore',\n",
       "                                               sparse=False),\n",
       "                                 ['SEX', 'MARRIAGE']),\n",
       "                                ('ordinalencoder',\n",
       "                                 OrdinalEncoder(categories=[['others',\n",
       "                                                             'high school',\n",
       "                                                             'university',\n",
       "                                                             'graduate '\n",
       "                                                             'school']]),\n",
       "                                 ['EDUCATION'])])"
      ]
     },
     "execution_count": 12,
     "metadata": {},
     "output_type": "execute_result"
    }
   ],
   "source": [
    "preprocessor.fit(X_trainCRE)"
   ]
  },
  {
   "cell_type": "markdown",
   "id": "ba818a6b-1d70-435f-85fc-6cdbef503cac",
   "metadata": {},
   "source": [
    "After fit is done, everything we need are stored inside preporcessor. Now we list out the new_columns name."
   ]
  },
  {
   "cell_type": "code",
   "execution_count": 13,
   "id": "c73679f9-e3bb-44be-92df-0060b73cd36b",
   "metadata": {},
   "outputs": [],
   "source": [
    "new_columns = (numerical\n",
    "               +preprocessor.named_transformers_[\"onehotencoder\"].get_feature_names_out().tolist() \n",
    "               +ordinal)"
   ]
  },
  {
   "cell_type": "markdown",
   "id": "ee80dc7a-2c2b-400f-b6f7-1d34269e050a",
   "metadata": {},
   "source": [
    "use the preprocessor and the new columns names we just got to encode X_trainCRE. Now we get X_trainCRE_enc which is ready to be used to future analysis."
   ]
  },
  {
   "cell_type": "code",
   "execution_count": 14,
   "id": "b52771cc-b0f5-466e-8d55-4aff6564c606",
   "metadata": {},
   "outputs": [
    {
     "data": {
      "text/html": [
       "<div>\n",
       "<style scoped>\n",
       "    .dataframe tbody tr th:only-of-type {\n",
       "        vertical-align: middle;\n",
       "    }\n",
       "\n",
       "    .dataframe tbody tr th {\n",
       "        vertical-align: top;\n",
       "    }\n",
       "\n",
       "    .dataframe thead th {\n",
       "        text-align: right;\n",
       "    }\n",
       "</style>\n",
       "<table border=\"1\" class=\"dataframe\">\n",
       "  <thead>\n",
       "    <tr style=\"text-align: right;\">\n",
       "      <th></th>\n",
       "      <th>LIMIT_BAL</th>\n",
       "      <th>AGE</th>\n",
       "      <th>PAY_0</th>\n",
       "      <th>PAY_2</th>\n",
       "      <th>PAY_3</th>\n",
       "      <th>PAY_4</th>\n",
       "      <th>PAY_5</th>\n",
       "      <th>PAY_6</th>\n",
       "      <th>BILL_AMT1</th>\n",
       "      <th>BILL_AMT3</th>\n",
       "      <th>...</th>\n",
       "      <th>PAY_AMT5</th>\n",
       "      <th>PAY_AMT6</th>\n",
       "      <th>BILL_AMT_avg</th>\n",
       "      <th>PAY_AMT_avg</th>\n",
       "      <th>SEX_1</th>\n",
       "      <th>SEX_2</th>\n",
       "      <th>MARRIAGE_1</th>\n",
       "      <th>MARRIAGE_2</th>\n",
       "      <th>MARRIAGE_3</th>\n",
       "      <th>EDUCATION</th>\n",
       "    </tr>\n",
       "    <tr>\n",
       "      <th>ID</th>\n",
       "      <th></th>\n",
       "      <th></th>\n",
       "      <th></th>\n",
       "      <th></th>\n",
       "      <th></th>\n",
       "      <th></th>\n",
       "      <th></th>\n",
       "      <th></th>\n",
       "      <th></th>\n",
       "      <th></th>\n",
       "      <th></th>\n",
       "      <th></th>\n",
       "      <th></th>\n",
       "      <th></th>\n",
       "      <th></th>\n",
       "      <th></th>\n",
       "      <th></th>\n",
       "      <th></th>\n",
       "      <th></th>\n",
       "      <th></th>\n",
       "      <th></th>\n",
       "    </tr>\n",
       "  </thead>\n",
       "  <tbody>\n",
       "    <tr>\n",
       "      <th>16396</th>\n",
       "      <td>320000.0</td>\n",
       "      <td>36.0</td>\n",
       "      <td>0.0</td>\n",
       "      <td>0.0</td>\n",
       "      <td>0.0</td>\n",
       "      <td>0.0</td>\n",
       "      <td>0.0</td>\n",
       "      <td>0.0</td>\n",
       "      <td>29026.0</td>\n",
       "      <td>28695.0</td>\n",
       "      <td>...</td>\n",
       "      <td>0.0</td>\n",
       "      <td>7013.0</td>\n",
       "      <td>19868.833333</td>\n",
       "      <td>3505.166667</td>\n",
       "      <td>0.0</td>\n",
       "      <td>1.0</td>\n",
       "      <td>0.0</td>\n",
       "      <td>1.0</td>\n",
       "      <td>0.0</td>\n",
       "      <td>3.0</td>\n",
       "    </tr>\n",
       "    <tr>\n",
       "      <th>21449</th>\n",
       "      <td>440000.0</td>\n",
       "      <td>30.0</td>\n",
       "      <td>-1.0</td>\n",
       "      <td>-1.0</td>\n",
       "      <td>-1.0</td>\n",
       "      <td>0.0</td>\n",
       "      <td>0.0</td>\n",
       "      <td>0.0</td>\n",
       "      <td>777.0</td>\n",
       "      <td>87426.0</td>\n",
       "      <td>...</td>\n",
       "      <td>15000.0</td>\n",
       "      <td>51663.0</td>\n",
       "      <td>88137.666667</td>\n",
       "      <td>47954.333333</td>\n",
       "      <td>0.0</td>\n",
       "      <td>1.0</td>\n",
       "      <td>0.0</td>\n",
       "      <td>1.0</td>\n",
       "      <td>0.0</td>\n",
       "      <td>3.0</td>\n",
       "    </tr>\n",
       "    <tr>\n",
       "      <th>20035</th>\n",
       "      <td>160000.0</td>\n",
       "      <td>44.0</td>\n",
       "      <td>-2.0</td>\n",
       "      <td>-2.0</td>\n",
       "      <td>-2.0</td>\n",
       "      <td>-2.0</td>\n",
       "      <td>-2.0</td>\n",
       "      <td>-2.0</td>\n",
       "      <td>-18.0</td>\n",
       "      <td>-18.0</td>\n",
       "      <td>...</td>\n",
       "      <td>0.0</td>\n",
       "      <td>0.0</td>\n",
       "      <td>-18.000000</td>\n",
       "      <td>0.000000</td>\n",
       "      <td>0.0</td>\n",
       "      <td>1.0</td>\n",
       "      <td>1.0</td>\n",
       "      <td>0.0</td>\n",
       "      <td>0.0</td>\n",
       "      <td>1.0</td>\n",
       "    </tr>\n",
       "    <tr>\n",
       "      <th>25756</th>\n",
       "      <td>120000.0</td>\n",
       "      <td>30.0</td>\n",
       "      <td>0.0</td>\n",
       "      <td>0.0</td>\n",
       "      <td>0.0</td>\n",
       "      <td>0.0</td>\n",
       "      <td>0.0</td>\n",
       "      <td>0.0</td>\n",
       "      <td>101596.0</td>\n",
       "      <td>104694.0</td>\n",
       "      <td>...</td>\n",
       "      <td>2005.0</td>\n",
       "      <td>1702.0</td>\n",
       "      <td>88447.000000</td>\n",
       "      <td>3356.000000</td>\n",
       "      <td>0.0</td>\n",
       "      <td>1.0</td>\n",
       "      <td>1.0</td>\n",
       "      <td>0.0</td>\n",
       "      <td>0.0</td>\n",
       "      <td>2.0</td>\n",
       "    </tr>\n",
       "    <tr>\n",
       "      <th>1439</th>\n",
       "      <td>50000.0</td>\n",
       "      <td>54.0</td>\n",
       "      <td>1.0</td>\n",
       "      <td>2.0</td>\n",
       "      <td>0.0</td>\n",
       "      <td>0.0</td>\n",
       "      <td>0.0</td>\n",
       "      <td>0.0</td>\n",
       "      <td>48153.0</td>\n",
       "      <td>27168.0</td>\n",
       "      <td>...</td>\n",
       "      <td>1000.0</td>\n",
       "      <td>1500.0</td>\n",
       "      <td>34180.166667</td>\n",
       "      <td>1100.000000</td>\n",
       "      <td>1.0</td>\n",
       "      <td>0.0</td>\n",
       "      <td>0.0</td>\n",
       "      <td>1.0</td>\n",
       "      <td>0.0</td>\n",
       "      <td>2.0</td>\n",
       "    </tr>\n",
       "    <tr>\n",
       "      <th>...</th>\n",
       "      <td>...</td>\n",
       "      <td>...</td>\n",
       "      <td>...</td>\n",
       "      <td>...</td>\n",
       "      <td>...</td>\n",
       "      <td>...</td>\n",
       "      <td>...</td>\n",
       "      <td>...</td>\n",
       "      <td>...</td>\n",
       "      <td>...</td>\n",
       "      <td>...</td>\n",
       "      <td>...</td>\n",
       "      <td>...</td>\n",
       "      <td>...</td>\n",
       "      <td>...</td>\n",
       "      <td>...</td>\n",
       "      <td>...</td>\n",
       "      <td>...</td>\n",
       "      <td>...</td>\n",
       "      <td>...</td>\n",
       "      <td>...</td>\n",
       "    </tr>\n",
       "    <tr>\n",
       "      <th>28637</th>\n",
       "      <td>380000.0</td>\n",
       "      <td>37.0</td>\n",
       "      <td>0.0</td>\n",
       "      <td>0.0</td>\n",
       "      <td>0.0</td>\n",
       "      <td>0.0</td>\n",
       "      <td>0.0</td>\n",
       "      <td>2.0</td>\n",
       "      <td>13415.0</td>\n",
       "      <td>13277.0</td>\n",
       "      <td>...</td>\n",
       "      <td>0.0</td>\n",
       "      <td>3000.0</td>\n",
       "      <td>14478.166667</td>\n",
       "      <td>1441.000000</td>\n",
       "      <td>0.0</td>\n",
       "      <td>1.0</td>\n",
       "      <td>1.0</td>\n",
       "      <td>0.0</td>\n",
       "      <td>0.0</td>\n",
       "      <td>2.0</td>\n",
       "    </tr>\n",
       "    <tr>\n",
       "      <th>17731</th>\n",
       "      <td>360000.0</td>\n",
       "      <td>54.0</td>\n",
       "      <td>1.0</td>\n",
       "      <td>-2.0</td>\n",
       "      <td>-2.0</td>\n",
       "      <td>-1.0</td>\n",
       "      <td>0.0</td>\n",
       "      <td>-1.0</td>\n",
       "      <td>0.0</td>\n",
       "      <td>0.0</td>\n",
       "      <td>...</td>\n",
       "      <td>6941.0</td>\n",
       "      <td>0.0</td>\n",
       "      <td>2016.833333</td>\n",
       "      <td>1586.833333</td>\n",
       "      <td>0.0</td>\n",
       "      <td>1.0</td>\n",
       "      <td>1.0</td>\n",
       "      <td>0.0</td>\n",
       "      <td>0.0</td>\n",
       "      <td>3.0</td>\n",
       "    </tr>\n",
       "    <tr>\n",
       "      <th>28031</th>\n",
       "      <td>50000.0</td>\n",
       "      <td>29.0</td>\n",
       "      <td>0.0</td>\n",
       "      <td>0.0</td>\n",
       "      <td>0.0</td>\n",
       "      <td>0.0</td>\n",
       "      <td>0.0</td>\n",
       "      <td>0.0</td>\n",
       "      <td>47194.0</td>\n",
       "      <td>46777.0</td>\n",
       "      <td>...</td>\n",
       "      <td>327.0</td>\n",
       "      <td>329.0</td>\n",
       "      <td>33267.500000</td>\n",
       "      <td>1198.000000</td>\n",
       "      <td>0.0</td>\n",
       "      <td>1.0</td>\n",
       "      <td>1.0</td>\n",
       "      <td>0.0</td>\n",
       "      <td>0.0</td>\n",
       "      <td>1.0</td>\n",
       "    </tr>\n",
       "    <tr>\n",
       "      <th>15726</th>\n",
       "      <td>30000.0</td>\n",
       "      <td>21.0</td>\n",
       "      <td>0.0</td>\n",
       "      <td>0.0</td>\n",
       "      <td>0.0</td>\n",
       "      <td>0.0</td>\n",
       "      <td>0.0</td>\n",
       "      <td>0.0</td>\n",
       "      <td>28409.0</td>\n",
       "      <td>29435.0</td>\n",
       "      <td>...</td>\n",
       "      <td>331.0</td>\n",
       "      <td>0.0</td>\n",
       "      <td>27202.333333</td>\n",
       "      <td>1349.333333</td>\n",
       "      <td>0.0</td>\n",
       "      <td>1.0</td>\n",
       "      <td>0.0</td>\n",
       "      <td>1.0</td>\n",
       "      <td>0.0</td>\n",
       "      <td>2.0</td>\n",
       "    </tr>\n",
       "    <tr>\n",
       "      <th>19967</th>\n",
       "      <td>370000.0</td>\n",
       "      <td>36.0</td>\n",
       "      <td>-2.0</td>\n",
       "      <td>-2.0</td>\n",
       "      <td>-2.0</td>\n",
       "      <td>-2.0</td>\n",
       "      <td>-2.0</td>\n",
       "      <td>-2.0</td>\n",
       "      <td>2788.0</td>\n",
       "      <td>3007.0</td>\n",
       "      <td>...</td>\n",
       "      <td>2290.0</td>\n",
       "      <td>22259.0</td>\n",
       "      <td>6976.333333</td>\n",
       "      <td>10232.000000</td>\n",
       "      <td>0.0</td>\n",
       "      <td>1.0</td>\n",
       "      <td>1.0</td>\n",
       "      <td>0.0</td>\n",
       "      <td>0.0</td>\n",
       "      <td>3.0</td>\n",
       "    </tr>\n",
       "  </tbody>\n",
       "</table>\n",
       "<p>21000 rows × 28 columns</p>\n",
       "</div>"
      ],
      "text/plain": [
       "       LIMIT_BAL   AGE  PAY_0  PAY_2  PAY_3  PAY_4  PAY_5  PAY_6  BILL_AMT1  \\\n",
       "ID                                                                            \n",
       "16396   320000.0  36.0    0.0    0.0    0.0    0.0    0.0    0.0    29026.0   \n",
       "21449   440000.0  30.0   -1.0   -1.0   -1.0    0.0    0.0    0.0      777.0   \n",
       "20035   160000.0  44.0   -2.0   -2.0   -2.0   -2.0   -2.0   -2.0      -18.0   \n",
       "25756   120000.0  30.0    0.0    0.0    0.0    0.0    0.0    0.0   101596.0   \n",
       "1439     50000.0  54.0    1.0    2.0    0.0    0.0    0.0    0.0    48153.0   \n",
       "...          ...   ...    ...    ...    ...    ...    ...    ...        ...   \n",
       "28637   380000.0  37.0    0.0    0.0    0.0    0.0    0.0    2.0    13415.0   \n",
       "17731   360000.0  54.0    1.0   -2.0   -2.0   -1.0    0.0   -1.0        0.0   \n",
       "28031    50000.0  29.0    0.0    0.0    0.0    0.0    0.0    0.0    47194.0   \n",
       "15726    30000.0  21.0    0.0    0.0    0.0    0.0    0.0    0.0    28409.0   \n",
       "19967   370000.0  36.0   -2.0   -2.0   -2.0   -2.0   -2.0   -2.0     2788.0   \n",
       "\n",
       "       BILL_AMT3  ...  PAY_AMT5  PAY_AMT6  BILL_AMT_avg   PAY_AMT_avg  SEX_1  \\\n",
       "ID                ...                                                          \n",
       "16396    28695.0  ...       0.0    7013.0  19868.833333   3505.166667    0.0   \n",
       "21449    87426.0  ...   15000.0   51663.0  88137.666667  47954.333333    0.0   \n",
       "20035      -18.0  ...       0.0       0.0    -18.000000      0.000000    0.0   \n",
       "25756   104694.0  ...    2005.0    1702.0  88447.000000   3356.000000    0.0   \n",
       "1439     27168.0  ...    1000.0    1500.0  34180.166667   1100.000000    1.0   \n",
       "...          ...  ...       ...       ...           ...           ...    ...   \n",
       "28637    13277.0  ...       0.0    3000.0  14478.166667   1441.000000    0.0   \n",
       "17731        0.0  ...    6941.0       0.0   2016.833333   1586.833333    0.0   \n",
       "28031    46777.0  ...     327.0     329.0  33267.500000   1198.000000    0.0   \n",
       "15726    29435.0  ...     331.0       0.0  27202.333333   1349.333333    0.0   \n",
       "19967     3007.0  ...    2290.0   22259.0   6976.333333  10232.000000    0.0   \n",
       "\n",
       "       SEX_2  MARRIAGE_1  MARRIAGE_2  MARRIAGE_3  EDUCATION  \n",
       "ID                                                           \n",
       "16396    1.0         0.0         1.0         0.0        3.0  \n",
       "21449    1.0         0.0         1.0         0.0        3.0  \n",
       "20035    1.0         1.0         0.0         0.0        1.0  \n",
       "25756    1.0         1.0         0.0         0.0        2.0  \n",
       "1439     0.0         0.0         1.0         0.0        2.0  \n",
       "...      ...         ...         ...         ...        ...  \n",
       "28637    1.0         1.0         0.0         0.0        2.0  \n",
       "17731    1.0         1.0         0.0         0.0        3.0  \n",
       "28031    1.0         1.0         0.0         0.0        1.0  \n",
       "15726    1.0         0.0         1.0         0.0        2.0  \n",
       "19967    1.0         1.0         0.0         0.0        3.0  \n",
       "\n",
       "[21000 rows x 28 columns]"
      ]
     },
     "execution_count": 14,
     "metadata": {},
     "output_type": "execute_result"
    }
   ],
   "source": [
    "X_trainCRE_enc = pd.DataFrame(\n",
    "    preprocessor.transform(X_trainCRE), index=X_trainCRE.index, columns=new_columns\n",
    ")\n",
    "X_trainCRE_enc"
   ]
  },
  {
   "cell_type": "markdown",
   "id": "bb502a3f-be86-441e-9637-07565ce401f1",
   "metadata": {},
   "source": [
    "## Baseline Model"
   ]
  },
  {
   "cell_type": "markdown",
   "id": "859984cc-2d34-4fc8-9d98-0c04cd68f0bd",
   "metadata": {},
   "source": [
    "Setting up a baseline model for future comparison."
   ]
  },
  {
   "cell_type": "code",
   "execution_count": 15,
   "id": "af2caa8e-40e6-4ea9-b963-202a1418244a",
   "metadata": {},
   "outputs": [
    {
     "name": "stderr",
     "output_type": "stream",
     "text": [
      "C:\\Users\\a3090\\miniconda3\\envs\\cpsc330\\lib\\site-packages\\sklearn\\metrics\\_classification.py:1318: UndefinedMetricWarning: Precision is ill-defined and being set to 0.0 due to no predicted samples. Use `zero_division` parameter to control this behavior.\n",
      "  _warn_prf(average, modifier, msg_start, len(result))\n",
      "C:\\Users\\a3090\\miniconda3\\envs\\cpsc330\\lib\\site-packages\\sklearn\\metrics\\_classification.py:1318: UndefinedMetricWarning: Precision is ill-defined and being set to 0.0 due to no predicted samples. Use `zero_division` parameter to control this behavior.\n",
      "  _warn_prf(average, modifier, msg_start, len(result))\n",
      "C:\\Users\\a3090\\miniconda3\\envs\\cpsc330\\lib\\site-packages\\sklearn\\metrics\\_classification.py:1318: UndefinedMetricWarning: Precision is ill-defined and being set to 0.0 due to no predicted samples. Use `zero_division` parameter to control this behavior.\n",
      "  _warn_prf(average, modifier, msg_start, len(result))\n",
      "C:\\Users\\a3090\\miniconda3\\envs\\cpsc330\\lib\\site-packages\\sklearn\\metrics\\_classification.py:1318: UndefinedMetricWarning: Precision is ill-defined and being set to 0.0 due to no predicted samples. Use `zero_division` parameter to control this behavior.\n",
      "  _warn_prf(average, modifier, msg_start, len(result))\n",
      "C:\\Users\\a3090\\miniconda3\\envs\\cpsc330\\lib\\site-packages\\sklearn\\metrics\\_classification.py:1318: UndefinedMetricWarning: Precision is ill-defined and being set to 0.0 due to no predicted samples. Use `zero_division` parameter to control this behavior.\n",
      "  _warn_prf(average, modifier, msg_start, len(result))\n",
      "C:\\Users\\a3090\\miniconda3\\envs\\cpsc330\\lib\\site-packages\\sklearn\\metrics\\_classification.py:1318: UndefinedMetricWarning: Precision is ill-defined and being set to 0.0 due to no predicted samples. Use `zero_division` parameter to control this behavior.\n",
      "  _warn_prf(average, modifier, msg_start, len(result))\n",
      "C:\\Users\\a3090\\miniconda3\\envs\\cpsc330\\lib\\site-packages\\sklearn\\metrics\\_classification.py:1318: UndefinedMetricWarning: Precision is ill-defined and being set to 0.0 due to no predicted samples. Use `zero_division` parameter to control this behavior.\n",
      "  _warn_prf(average, modifier, msg_start, len(result))\n",
      "C:\\Users\\a3090\\miniconda3\\envs\\cpsc330\\lib\\site-packages\\sklearn\\metrics\\_classification.py:1318: UndefinedMetricWarning: Precision is ill-defined and being set to 0.0 due to no predicted samples. Use `zero_division` parameter to control this behavior.\n",
      "  _warn_prf(average, modifier, msg_start, len(result))\n",
      "C:\\Users\\a3090\\miniconda3\\envs\\cpsc330\\lib\\site-packages\\sklearn\\metrics\\_classification.py:1318: UndefinedMetricWarning: Precision is ill-defined and being set to 0.0 due to no predicted samples. Use `zero_division` parameter to control this behavior.\n",
      "  _warn_prf(average, modifier, msg_start, len(result))\n",
      "C:\\Users\\a3090\\miniconda3\\envs\\cpsc330\\lib\\site-packages\\sklearn\\metrics\\_classification.py:1318: UndefinedMetricWarning: Precision is ill-defined and being set to 0.0 due to no predicted samples. Use `zero_division` parameter to control this behavior.\n",
      "  _warn_prf(average, modifier, msg_start, len(result))\n"
     ]
    },
    {
     "data": {
      "text/html": [
       "<div>\n",
       "<style scoped>\n",
       "    .dataframe tbody tr th:only-of-type {\n",
       "        vertical-align: middle;\n",
       "    }\n",
       "\n",
       "    .dataframe tbody tr th {\n",
       "        vertical-align: top;\n",
       "    }\n",
       "\n",
       "    .dataframe thead th {\n",
       "        text-align: right;\n",
       "    }\n",
       "</style>\n",
       "<table border=\"1\" class=\"dataframe\">\n",
       "  <thead>\n",
       "    <tr style=\"text-align: right;\">\n",
       "      <th></th>\n",
       "      <th>fit_time</th>\n",
       "      <th>score_time</th>\n",
       "      <th>test_accuracy</th>\n",
       "      <th>train_accuracy</th>\n",
       "      <th>test_precision</th>\n",
       "      <th>train_precision</th>\n",
       "      <th>test_recall</th>\n",
       "      <th>train_recall</th>\n",
       "      <th>test_f1</th>\n",
       "      <th>train_f1</th>\n",
       "    </tr>\n",
       "  </thead>\n",
       "  <tbody>\n",
       "    <tr>\n",
       "      <th>0</th>\n",
       "      <td>0.002992</td>\n",
       "      <td>0.005984</td>\n",
       "      <td>0.776905</td>\n",
       "      <td>0.776726</td>\n",
       "      <td>0.0</td>\n",
       "      <td>0.0</td>\n",
       "      <td>0.0</td>\n",
       "      <td>0.0</td>\n",
       "      <td>0.0</td>\n",
       "      <td>0.0</td>\n",
       "    </tr>\n",
       "    <tr>\n",
       "      <th>1</th>\n",
       "      <td>0.002993</td>\n",
       "      <td>0.003989</td>\n",
       "      <td>0.776905</td>\n",
       "      <td>0.776726</td>\n",
       "      <td>0.0</td>\n",
       "      <td>0.0</td>\n",
       "      <td>0.0</td>\n",
       "      <td>0.0</td>\n",
       "      <td>0.0</td>\n",
       "      <td>0.0</td>\n",
       "    </tr>\n",
       "    <tr>\n",
       "      <th>2</th>\n",
       "      <td>0.001995</td>\n",
       "      <td>0.004987</td>\n",
       "      <td>0.776667</td>\n",
       "      <td>0.776786</td>\n",
       "      <td>0.0</td>\n",
       "      <td>0.0</td>\n",
       "      <td>0.0</td>\n",
       "      <td>0.0</td>\n",
       "      <td>0.0</td>\n",
       "      <td>0.0</td>\n",
       "    </tr>\n",
       "    <tr>\n",
       "      <th>3</th>\n",
       "      <td>0.001995</td>\n",
       "      <td>0.005016</td>\n",
       "      <td>0.776667</td>\n",
       "      <td>0.776786</td>\n",
       "      <td>0.0</td>\n",
       "      <td>0.0</td>\n",
       "      <td>0.0</td>\n",
       "      <td>0.0</td>\n",
       "      <td>0.0</td>\n",
       "      <td>0.0</td>\n",
       "    </tr>\n",
       "    <tr>\n",
       "      <th>4</th>\n",
       "      <td>0.001995</td>\n",
       "      <td>0.003989</td>\n",
       "      <td>0.776667</td>\n",
       "      <td>0.776786</td>\n",
       "      <td>0.0</td>\n",
       "      <td>0.0</td>\n",
       "      <td>0.0</td>\n",
       "      <td>0.0</td>\n",
       "      <td>0.0</td>\n",
       "      <td>0.0</td>\n",
       "    </tr>\n",
       "  </tbody>\n",
       "</table>\n",
       "</div>"
      ],
      "text/plain": [
       "   fit_time  score_time  test_accuracy  train_accuracy  test_precision  \\\n",
       "0  0.002992    0.005984       0.776905        0.776726             0.0   \n",
       "1  0.002993    0.003989       0.776905        0.776726             0.0   \n",
       "2  0.001995    0.004987       0.776667        0.776786             0.0   \n",
       "3  0.001995    0.005016       0.776667        0.776786             0.0   \n",
       "4  0.001995    0.003989       0.776667        0.776786             0.0   \n",
       "\n",
       "   train_precision  test_recall  train_recall  test_f1  train_f1  \n",
       "0              0.0          0.0           0.0      0.0       0.0  \n",
       "1              0.0          0.0           0.0      0.0       0.0  \n",
       "2              0.0          0.0           0.0      0.0       0.0  \n",
       "3              0.0          0.0           0.0      0.0       0.0  \n",
       "4              0.0          0.0           0.0      0.0       0.0  "
      ]
     },
     "execution_count": 15,
     "metadata": {},
     "output_type": "execute_result"
    }
   ],
   "source": [
    "scoring=[\"accuracy\", \"precision\", \"recall\", \"f1\"]\n",
    "dummy =DummyClassifier()\n",
    "score = cross_validate(\n",
    "    dummy, X_trainCRE_enc, y_trainCRE, return_train_score=True, scoring=scoring)\n",
    "pd.DataFrame(score)"
   ]
  },
  {
   "cell_type": "markdown",
   "id": "dfdbd11a-5283-4f4d-a313-69687ff4e5db",
   "metadata": {},
   "source": [
    "## Model fitting"
   ]
  },
  {
   "cell_type": "markdown",
   "id": "3d171d5f-021a-4cb8-9302-9349dc434484",
   "metadata": {},
   "source": [
    "After all the data is settled down, we can start fit them into models. Here, we are using LightGBM which is a modeling method based on decision tree. When the training finished, we can print the results and determine if it is trained well."
   ]
  },
  {
   "cell_type": "code",
   "execution_count": 16,
   "id": "af812d84-ad14-4e35-b1b0-4c23d082a4e9",
   "metadata": {},
   "outputs": [
    {
     "data": {
      "text/html": [
       "<div>\n",
       "<style scoped>\n",
       "    .dataframe tbody tr th:only-of-type {\n",
       "        vertical-align: middle;\n",
       "    }\n",
       "\n",
       "    .dataframe tbody tr th {\n",
       "        vertical-align: top;\n",
       "    }\n",
       "\n",
       "    .dataframe thead th {\n",
       "        text-align: right;\n",
       "    }\n",
       "</style>\n",
       "<table border=\"1\" class=\"dataframe\">\n",
       "  <thead>\n",
       "    <tr style=\"text-align: right;\">\n",
       "      <th></th>\n",
       "      <th>fit_time</th>\n",
       "      <th>score_time</th>\n",
       "      <th>test_accuracy</th>\n",
       "      <th>train_accuracy</th>\n",
       "      <th>test_precision</th>\n",
       "      <th>train_precision</th>\n",
       "      <th>test_recall</th>\n",
       "      <th>train_recall</th>\n",
       "      <th>test_f1</th>\n",
       "      <th>train_f1</th>\n",
       "    </tr>\n",
       "  </thead>\n",
       "  <tbody>\n",
       "    <tr>\n",
       "      <th>0</th>\n",
       "      <td>0.104720</td>\n",
       "      <td>0.011968</td>\n",
       "      <td>0.811905</td>\n",
       "      <td>0.853393</td>\n",
       "      <td>0.635359</td>\n",
       "      <td>0.795142</td>\n",
       "      <td>0.368196</td>\n",
       "      <td>0.462543</td>\n",
       "      <td>0.466216</td>\n",
       "      <td>0.584864</td>\n",
       "    </tr>\n",
       "    <tr>\n",
       "      <th>1</th>\n",
       "      <td>0.105717</td>\n",
       "      <td>0.012966</td>\n",
       "      <td>0.818571</td>\n",
       "      <td>0.854821</td>\n",
       "      <td>0.663551</td>\n",
       "      <td>0.800091</td>\n",
       "      <td>0.378869</td>\n",
       "      <td>0.466276</td>\n",
       "      <td>0.482337</td>\n",
       "      <td>0.589186</td>\n",
       "    </tr>\n",
       "    <tr>\n",
       "      <th>2</th>\n",
       "      <td>0.098736</td>\n",
       "      <td>0.011968</td>\n",
       "      <td>0.823095</td>\n",
       "      <td>0.850714</td>\n",
       "      <td>0.693837</td>\n",
       "      <td>0.787766</td>\n",
       "      <td>0.372068</td>\n",
       "      <td>0.453333</td>\n",
       "      <td>0.484386</td>\n",
       "      <td>0.575491</td>\n",
       "    </tr>\n",
       "    <tr>\n",
       "      <th>3</th>\n",
       "      <td>0.113696</td>\n",
       "      <td>0.011968</td>\n",
       "      <td>0.826667</td>\n",
       "      <td>0.854226</td>\n",
       "      <td>0.698113</td>\n",
       "      <td>0.806695</td>\n",
       "      <td>0.394456</td>\n",
       "      <td>0.456267</td>\n",
       "      <td>0.504087</td>\n",
       "      <td>0.582865</td>\n",
       "    </tr>\n",
       "    <tr>\n",
       "      <th>4</th>\n",
       "      <td>0.097739</td>\n",
       "      <td>0.011968</td>\n",
       "      <td>0.816667</td>\n",
       "      <td>0.856726</td>\n",
       "      <td>0.668000</td>\n",
       "      <td>0.819002</td>\n",
       "      <td>0.356077</td>\n",
       "      <td>0.459733</td>\n",
       "      <td>0.464534</td>\n",
       "      <td>0.588898</td>\n",
       "    </tr>\n",
       "  </tbody>\n",
       "</table>\n",
       "</div>"
      ],
      "text/plain": [
       "   fit_time  score_time  test_accuracy  train_accuracy  test_precision  \\\n",
       "0  0.104720    0.011968       0.811905        0.853393        0.635359   \n",
       "1  0.105717    0.012966       0.818571        0.854821        0.663551   \n",
       "2  0.098736    0.011968       0.823095        0.850714        0.693837   \n",
       "3  0.113696    0.011968       0.826667        0.854226        0.698113   \n",
       "4  0.097739    0.011968       0.816667        0.856726        0.668000   \n",
       "\n",
       "   train_precision  test_recall  train_recall   test_f1  train_f1  \n",
       "0         0.795142     0.368196      0.462543  0.466216  0.584864  \n",
       "1         0.800091     0.378869      0.466276  0.482337  0.589186  \n",
       "2         0.787766     0.372068      0.453333  0.484386  0.575491  \n",
       "3         0.806695     0.394456      0.456267  0.504087  0.582865  \n",
       "4         0.819002     0.356077      0.459733  0.464534  0.588898  "
      ]
     },
     "execution_count": 16,
     "metadata": {},
     "output_type": "execute_result"
    }
   ],
   "source": [
    "from lightgbm.sklearn import LGBMClassifier\n",
    "pipe_lgbm = make_pipeline(preprocessor, LGBMClassifier(random_state=123))\n",
    "scoring=[\"accuracy\", \"precision\", \"recall\", \"f1\"]\n",
    "results = cross_validate(pipe_lgbm, X_trainCRE, y_trainCRE, cv=5, return_train_score=True, scoring = scoring)\n",
    "pd.DataFrame(results)"
   ]
  },
  {
   "cell_type": "markdown",
   "id": "642e2772-3835-4cc8-809c-8a15fd553c2d",
   "metadata": {},
   "source": [
    "Focusing on the f1 score, the test f1 score is around 0.466 to 0.504 and the train f1 score is approximately 0.588. The gap between these two f1 score is acceptable. Therefore, we can conclude that the f1 score is good for this modeling method."
   ]
  },
  {
   "cell_type": "markdown",
   "id": "6c99eedc-33aa-4024-a853-97dfc6940af6",
   "metadata": {},
   "source": [
    "## Hyperparameter optimization"
   ]
  },
  {
   "cell_type": "markdown",
   "id": "58a6c6b2-8d54-496f-b6cc-d58616e7967d",
   "metadata": {},
   "source": [
    "Different models contains different hyperparameters. It is impossible to use the best hyperparameters in the first time training the model. To solve this problem, we can do hyperparameter optimization which will try different combinations of hyperparameters and score them. Then, we can find the best hyperparameters based on the highest score."
   ]
  },
  {
   "cell_type": "code",
   "execution_count": 17,
   "id": "682fb542-67e2-408b-8a32-a6372a4bfd24",
   "metadata": {},
   "outputs": [
    {
     "data": {
      "text/plain": [
       "RandomizedSearchCV(cv=5,\n",
       "                   estimator=Pipeline(steps=[('columntransformer',\n",
       "                                              ColumnTransformer(transformers=[('passthrough',\n",
       "                                                                               'passthrough',\n",
       "                                                                               ['LIMIT_BAL',\n",
       "                                                                                'AGE',\n",
       "                                                                                'PAY_0',\n",
       "                                                                                'PAY_2',\n",
       "                                                                                'PAY_3',\n",
       "                                                                                'PAY_4',\n",
       "                                                                                'PAY_5',\n",
       "                                                                                'PAY_6',\n",
       "                                                                                'BILL_AMT1',\n",
       "                                                                                'BILL_AMT3',\n",
       "                                                                                'BILL_AMT2',\n",
       "                                                                                'BILL_AMT4',\n",
       "                                                                                'BILL_AMT5',\n",
       "                                                                                'BILL_AMT6',\n",
       "                                                                                'PAY_AMT1',\n",
       "                                                                                'PAY_AMT2',\n",
       "                                                                                'PAY_AMT3',\n",
       "                                                                                'PAY_AMT4',\n",
       "                                                                                'PAY_AMT5',\n",
       "                                                                                'PAY_AMT6',\n",
       "                                                                                'BILL_AMT_avg...\n",
       "                                                                              ('ordinalencoder',\n",
       "                                                                               OrdinalEncoder(categories=[['others',\n",
       "                                                                                                           'high '\n",
       "                                                                                                           'school',\n",
       "                                                                                                           'university',\n",
       "                                                                                                           'graduate '\n",
       "                                                                                                           'school']]),\n",
       "                                                                               ['EDUCATION'])])),\n",
       "                                             ('lgbmclassifier',\n",
       "                                              LGBMClassifier(random_state=123))]),\n",
       "                   n_jobs=-1,\n",
       "                   param_distributions={'lgbmclassifier__learning_rate': [0.01,\n",
       "                                                                          0.05,\n",
       "                                                                          0.1,\n",
       "                                                                          0.5,\n",
       "                                                                          1.0,\n",
       "                                                                          2.0],\n",
       "                                        'lgbmclassifier__max_depth': [1, 5, 10,\n",
       "                                                                      20, 50,\n",
       "                                                                      80,\n",
       "                                                                      100]},\n",
       "                   return_train_score=True, scoring='f1')"
      ]
     },
     "execution_count": 17,
     "metadata": {},
     "output_type": "execute_result"
    }
   ],
   "source": [
    "estimator = LGBMClassifier(random_state=123)\n",
    "param_grid_lgbm = {\n",
    "    \"lgbmclassifier__learning_rate\": [ 0.01, 0.05, 0.1, 0.5, 1.0, 2.0],\n",
    "    \"lgbmclassifier__max_depth\": [1, 5, 10, 20, 50, 80, 100]\n",
    "}\n",
    "random_search =RandomizedSearchCV(\n",
    "    pipe_lgbm, param_grid_lgbm, cv=5, n_jobs=-1, n_iter = 10, return_train_score=True, scoring=\"f1\"\n",
    ")\n",
    "random_search.fit(X_trainCRE, y_trainCRE)"
   ]
  },
  {
   "cell_type": "markdown",
   "id": "c5318ba6-bb3f-43bb-ab4a-8b97b718a3e6",
   "metadata": {},
   "source": [
    "Print out the best parameters' value and the corresponding best score for future use."
   ]
  },
  {
   "cell_type": "code",
   "execution_count": 18,
   "id": "190f94f4-7532-45b9-9fbb-5aea16dd8254",
   "metadata": {},
   "outputs": [
    {
     "name": "stdout",
     "output_type": "stream",
     "text": [
      "{'lgbmclassifier__max_depth': 20, 'lgbmclassifier__learning_rate': 0.1}\n",
      "0.48108140587536274\n"
     ]
    }
   ],
   "source": [
    "print(random_search.best_params_)\n",
    "print(random_search.best_score_)"
   ]
  },
  {
   "cell_type": "markdown",
   "id": "4660b1b1-0564-4777-92e3-11468a9b153d",
   "metadata": {},
   "source": [
    "Now we have the best hyperparameters for these two. We need plug them into a new pipeline."
   ]
  },
  {
   "cell_type": "code",
   "execution_count": 19,
   "id": "c620c507-f6d2-4c2f-b9d9-159acc5fa445",
   "metadata": {},
   "outputs": [
    {
     "data": {
      "text/plain": [
       "Pipeline(steps=[('columntransformer',\n",
       "                 ColumnTransformer(transformers=[('passthrough', 'passthrough',\n",
       "                                                  ['LIMIT_BAL', 'AGE', 'PAY_0',\n",
       "                                                   'PAY_2', 'PAY_3', 'PAY_4',\n",
       "                                                   'PAY_5', 'PAY_6',\n",
       "                                                   'BILL_AMT1', 'BILL_AMT3',\n",
       "                                                   'BILL_AMT2', 'BILL_AMT4',\n",
       "                                                   'BILL_AMT5', 'BILL_AMT6',\n",
       "                                                   'PAY_AMT1', 'PAY_AMT2',\n",
       "                                                   'PAY_AMT3', 'PAY_AMT4',\n",
       "                                                   'PAY_AMT5', 'PAY_AMT6',\n",
       "                                                   'BILL_AMT_avg',\n",
       "                                                   'PAY_AMT_avg']),\n",
       "                                                 ('onehotencoder',\n",
       "                                                  OneHotEncoder(handle_unknown='ignore',\n",
       "                                                                sparse=False),\n",
       "                                                  ['SEX', 'MARRIAGE']),\n",
       "                                                 ('ordinalencoder',\n",
       "                                                  OrdinalEncoder(categories=[['others',\n",
       "                                                                              'high '\n",
       "                                                                              'school',\n",
       "                                                                              'university',\n",
       "                                                                              'graduate '\n",
       "                                                                              'school']]),\n",
       "                                                  ['EDUCATION'])])),\n",
       "                ('lgbmclassifier',\n",
       "                 LGBMClassifier(max_depth=80, random_state=123))])"
      ]
     },
     "execution_count": 19,
     "metadata": {},
     "output_type": "execute_result"
    }
   ],
   "source": [
    "pipe_lgbm_best=make_pipeline(preprocessor, LGBMClassifier(random_state=123, max_depth = 80, learning_rate = 0.1))\n",
    "pipe_lgbm_best.fit(X_trainCRE,y_trainCRE)"
   ]
  },
  {
   "cell_type": "markdown",
   "id": "6fedaecd-7e0a-4d7c-a714-dc64ececa0b8",
   "metadata": {},
   "source": [
    "Now we want use our best model on our test set. But before that, we need do the same process as we did on our training set to our testing set. The reason why we don't do this when we are doing it to training set is that it will violate GOLDEN RULE. If GOLDEN RULE is violated, then our prediction will be not trustworthy. We should keep testing set unchanged until we are going to applying the model to it."
   ]
  },
  {
   "cell_type": "code",
   "execution_count": 20,
   "id": "cb544b44-f030-4698-8dfc-f647a9545cd4",
   "metadata": {},
   "outputs": [],
   "source": [
    "X_testCRE = test_dfcredit.drop(columns=[target])\n",
    "y_testCRE = test_dfcredit[target]\n",
    "\n",
    "X_testCRE[\"EDUCATION\"].replace(6, \"others\", inplace=True)\n",
    "X_testCRE[\"EDUCATION\"].replace(5, \"others\", inplace=True)\n",
    "X_testCRE[\"EDUCATION\"].replace(4, \"others\", inplace=True)\n",
    "X_testCRE[\"EDUCATION\"].replace(3, \"high school\", inplace=True)\n",
    "X_testCRE[\"EDUCATION\"].replace(2, \"university\", inplace=True)\n",
    "X_testCRE[\"EDUCATION\"].replace(1, \"graduate school\", inplace=True)\n",
    "X_testCRE[\"EDUCATION\"].replace(0, \"others\", inplace=True)\n",
    "X_testCRE[\"MARRIAGE\"].replace(0, 3, inplace=True)"
   ]
  },
  {
   "cell_type": "markdown",
   "id": "289b6a83-aa41-4eb6-ae1d-ad5f09ef0471",
   "metadata": {},
   "source": [
    "Loading the corresponding metrics and print the scores out."
   ]
  },
  {
   "cell_type": "code",
   "execution_count": 21,
   "id": "64fa84bf-ec49-4108-b21d-bfbe3a6efe13",
   "metadata": {},
   "outputs": [
    {
     "name": "stdout",
     "output_type": "stream",
     "text": [
      "0.47831715210355985\n",
      "0.37936344969199176\n",
      "0.6471103327495622\n"
     ]
    }
   ],
   "source": [
    "from sklearn.metrics import ( f1_score)\n",
    "from sklearn.metrics import recall_score\n",
    "from sklearn.metrics import precision_score\n",
    "# carry out prediction\n",
    "print(f1_score(y_testCRE, pipe_lgbm_best.predict(X_testCRE)))\n",
    "print(recall_score(y_testCRE, pipe_lgbm_best.predict(X_testCRE)))\n",
    "print(precision_score(y_testCRE, pipe_lgbm_best.predict(X_testCRE)))"
   ]
  },
  {
   "cell_type": "markdown",
   "id": "0fac914e-9c21-4d82-b64b-211366833a0d",
   "metadata": {},
   "source": [
    "## Feature Importance"
   ]
  },
  {
   "cell_type": "markdown",
   "id": "3d94bf03-db5e-4955-a704-cd7c26a1b4e9",
   "metadata": {},
   "source": [
    "If we want to know the extent to which different features have an impact on the target. We can do this."
   ]
  },
  {
   "cell_type": "code",
   "execution_count": 22,
   "id": "13367667-3340-4a0c-96df-5b5e854cc5cd",
   "metadata": {},
   "outputs": [
    {
     "name": "stderr",
     "output_type": "stream",
     "text": [
      "LightGBM binary classifier with TreeExplainer shap values output has changed to a list of ndarray\n"
     ]
    },
    {
     "data": {
      "image/png": "[encoded data removed]",
      "text/plain": [
       "<Figure size 576x684 with 2 Axes>"
      ]
     },
     "metadata": {
      "needs_background": "light"
     },
     "output_type": "display_data"
    }
   ],
   "source": [
    "import shap\n",
    "lgbm_explainer = shap.TreeExplainer(pipe_lgbm_best.named_steps[\"lgbmclassifier\"])\n",
    "train_lgbm_shap_values = lgbm_explainer.shap_values(X_trainCRE_enc)\n",
    "shap.summary_plot(train_lgbm_shap_values[1], X_trainCRE_enc)"
   ]
  },
  {
   "cell_type": "markdown",
   "id": "4420f86f-8eeb-4584-ad59-aaffe2e8d173",
   "metadata": {},
   "source": [
    "Except the plot, we can also use a table to achieve the similar goal."
   ]
  },
  {
   "cell_type": "code",
   "execution_count": 23,
   "id": "2652f601-d0f9-4a37-992f-4fda5b15162d",
   "metadata": {},
   "outputs": [
    {
     "data": {
      "text/html": [
       "<div>\n",
       "<style scoped>\n",
       "    .dataframe tbody tr th:only-of-type {\n",
       "        vertical-align: middle;\n",
       "    }\n",
       "\n",
       "    .dataframe tbody tr th {\n",
       "        vertical-align: top;\n",
       "    }\n",
       "\n",
       "    .dataframe thead th {\n",
       "        text-align: right;\n",
       "    }\n",
       "</style>\n",
       "<table border=\"1\" class=\"dataframe\">\n",
       "  <thead>\n",
       "    <tr style=\"text-align: right;\">\n",
       "      <th></th>\n",
       "      <th>SHAP</th>\n",
       "    </tr>\n",
       "  </thead>\n",
       "  <tbody>\n",
       "    <tr>\n",
       "      <th>PAY_0</th>\n",
       "      <td>0.489916</td>\n",
       "    </tr>\n",
       "    <tr>\n",
       "      <th>LIMIT_BAL</th>\n",
       "      <td>0.183101</td>\n",
       "    </tr>\n",
       "    <tr>\n",
       "      <th>BILL_AMT1</th>\n",
       "      <td>0.142342</td>\n",
       "    </tr>\n",
       "    <tr>\n",
       "      <th>PAY_AMT2</th>\n",
       "      <td>0.128219</td>\n",
       "    </tr>\n",
       "    <tr>\n",
       "      <th>PAY_AMT3</th>\n",
       "      <td>0.104244</td>\n",
       "    </tr>\n",
       "    <tr>\n",
       "      <th>PAY_AMT_avg</th>\n",
       "      <td>0.088025</td>\n",
       "    </tr>\n",
       "    <tr>\n",
       "      <th>PAY_2</th>\n",
       "      <td>0.080290</td>\n",
       "    </tr>\n",
       "    <tr>\n",
       "      <th>PAY_AMT1</th>\n",
       "      <td>0.077733</td>\n",
       "    </tr>\n",
       "    <tr>\n",
       "      <th>PAY_3</th>\n",
       "      <td>0.075895</td>\n",
       "    </tr>\n",
       "    <tr>\n",
       "      <th>PAY_6</th>\n",
       "      <td>0.066515</td>\n",
       "    </tr>\n",
       "  </tbody>\n",
       "</table>\n",
       "</div>"
      ],
      "text/plain": [
       "                 SHAP\n",
       "PAY_0        0.489916\n",
       "LIMIT_BAL    0.183101\n",
       "BILL_AMT1    0.142342\n",
       "PAY_AMT2     0.128219\n",
       "PAY_AMT3     0.104244\n",
       "PAY_AMT_avg  0.088025\n",
       "PAY_2        0.080290\n",
       "PAY_AMT1     0.077733\n",
       "PAY_3        0.075895\n",
       "PAY_6        0.066515"
      ]
     },
     "execution_count": 23,
     "metadata": {},
     "output_type": "execute_result"
    }
   ],
   "source": [
    "values = np.abs(train_lgbm_shap_values[1]).mean(0)\n",
    "pd.DataFrame(data=values, index=new_columns, columns=[\"SHAP\"]).sort_values(\n",
    "    by=\"SHAP\", ascending=False\n",
    ")[:10]"
   ]
  },
  {
   "cell_type": "markdown",
   "id": "d6540891-6bf0-48c0-aa93-eb0062392a64",
   "metadata": {},
   "source": [
    "According to the plots and the table above, we can find PAY_0 has the most positive SHAP Feature value means that PAY_0 affect the target the most on a positive direction."
   ]
  },
  {
   "cell_type": "markdown",
   "id": "1d3a7452-d01b-485c-82b8-ffc2bbcc9258",
   "metadata": {},
   "source": [
    "## Explaining predictions"
   ]
  },
  {
   "cell_type": "markdown",
   "id": "c694b34d-bd82-4088-9f13-724c8701ab47",
   "metadata": {},
   "source": [
    "Moreover, expect we can find what features affect our target the most in general, we can also explain what features and how they affect each individual predictions. Here are two examples."
   ]
  },
  {
   "cell_type": "markdown",
   "id": "ff1a2eda-9af7-4544-aa98-0102f130864a",
   "metadata": {},
   "source": [
    "We can split the y_testCRE to 2 sets based on the target value. We randomly choose the 30th item in each set."
   ]
  },
  {
   "cell_type": "code",
   "execution_count": 24,
   "id": "1156610e-4d16-47ed-bd01-add0d5d2ffc9",
   "metadata": {},
   "outputs": [],
   "source": [
    "y_testCRE_reset = y_testCRE.reset_index(drop=True)\n",
    "\n",
    "default_yes = y_testCRE_reset[y_testCRE_reset == 1].index.tolist()\n",
    "default_no = y_testCRE_reset[y_testCRE_reset == 0].index.tolist()\n",
    "\n",
    "yes_exp = default_yes[30]\n",
    "no_exp = default_no[30]"
   ]
  },
  {
   "cell_type": "code",
   "execution_count": 25,
   "id": "11db3d6b-b4c0-4e98-86ed-b36c8a0dc72f",
   "metadata": {},
   "outputs": [
    {
     "name": "stderr",
     "output_type": "stream",
     "text": [
      "LightGBM binary classifier with TreeExplainer shap values output has changed to a list of ndarray\n"
     ]
    },
    {
     "data": {
      "image/png": "[encoded data removed]",
      "text/plain": [
       "<Figure size 1440x216 with 1 Axes>"
      ]
     },
     "metadata": {
      "needs_background": "light"
     },
     "output_type": "display_data"
    }
   ],
   "source": [
    "shap_explainer = shap.TreeExplainer(pipe_lgbm_best.named_steps[\"lgbmclassifier\"])\n",
    "X_testCRE_enc = pd.DataFrame(\n",
    "    preprocessor.transform(X_testCRE), index=X_testCRE.index, columns=new_columns\n",
    ")\n",
    "test_lgbm_shap_values = shap_explainer.shap_values(X_testCRE_enc)\n",
    "shap.force_plot(\n",
    "    shap_explainer.expected_value[1],\n",
    "    train_lgbm_shap_values[1][yes_exp, :],\n",
    "    X_testCRE_enc.iloc[yes_exp, :],\n",
    "    matplotlib=True,\n",
    ")"
   ]
  },
  {
   "cell_type": "markdown",
   "id": "1409b24b-59c1-4bab-8d17-befb4a97fdc8",
   "metadata": {},
   "source": [
    "for the 30th YES item, PAY_2 pushes the result to the right side the most, then PAY_0. For the negative side, PAY_AMT_avg did the most, and then AGE. After all features did their contribute, the final result is located at -1.03 which is larger than the base value. Therefore, our final result is YES"
   ]
  },
  {
   "cell_type": "code",
   "execution_count": 26,
   "id": "0146949f-1873-44fc-acf4-1f9478777a34",
   "metadata": {},
   "outputs": [
    {
     "data": {
      "image/png": "[encoded data removed]",
      "text/plain": [
       "<Figure size 1440x216 with 1 Axes>"
      ]
     },
     "metadata": {
      "needs_background": "light"
     },
     "output_type": "display_data"
    }
   ],
   "source": [
    "shap.force_plot(\n",
    "    lgbm_explainer.expected_value[1],\n",
    "    test_lgbm_shap_values[1][no_exp, :],\n",
    "    X_testCRE_enc.iloc[no_exp, :],\n",
    "    matplotlib=True,\n",
    ")"
   ]
  },
  {
   "cell_type": "markdown",
   "id": "7a677311-5554-4b60-a1b6-ca910c9b8dfc",
   "metadata": {},
   "source": [
    "Similarly, for the 30th No item, BILL_AMT4 pushes the result to the right side the most, then PAY_AMT3. For the negative side, PAY_AMT_avg did the most, and then PAY_0. After all features did their contribute, the final result is located at -2.49 which is less than the base value. Therefore, our final result is No"
   ]
  },
  {
   "cell_type": "markdown",
   "id": "35d790f6-074f-4f29-9d5f-8d7f24ca4c5c",
   "metadata": {},
   "source": [
    "## Conclusion"
   ]
  },
  {
   "cell_type": "markdown",
   "id": "42b7f222-cc47-4919-860a-6acda3d69508",
   "metadata": {},
   "source": [
    "The model we fitted offered good f1 scores. The gap between train and test set is small which indicates this model can work well in the real world. We can see PAY_0 is the most effective term through our feature importance plot. What we did on feature engineering part doesn't meet our expectations. We expect the mean value of BILL_AMT and PAY_AMT should be representative in terms of these two groups. Conversely， their feature importance coefficients are not relatively large. The dataset is significantly unbalanced, which tends to bias our focus towards precision parts. There are also limitations on this research based on this dataset. For instance, we haven't considered about interactions between variables, the data may not covered all the factors which could possibly affect the target value."
   ]
  }
 ],
 "metadata": {
  "kernelspec": {
   "display_name": "Python [conda env:cpsc330] *",
   "language": "python",
   "name": "conda-env-cpsc330-py"
  },
  "language_info": {
   "codemirror_mode": {
    "name": "ipython",
    "version": 3
   },
   "file_extension": ".py",
   "mimetype": "text/x-python",
   "name": "python",
   "nbconvert_exporter": "python",
   "pygments_lexer": "ipython3",
   "version": "3.9.9"
  }
 },
 "nbformat": 4,
 "nbformat_minor": 5
}
